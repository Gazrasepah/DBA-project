{
 "cells": [
  {
   "cell_type": "code",
   "execution_count": 1,
   "metadata": {},
   "outputs": [],
   "source": [
    "import mysql.connector as connector"
   ]
  },
  {
   "cell_type": "code",
   "execution_count": 18,
   "metadata": {},
   "outputs": [],
   "source": [
    "\n",
    "\n",
    "try:\n",
    "    connection = connector.connect(user = \"pooria\", password = \"Pooria!2345678\",database = \"LittleLemonDB\")\n",
    "except:\n",
    "    print(\"\"\"\n",
    "    There was a problem connecting to the database.\n",
    "    Please check your username or the password.\n",
    "    \"\"\")"
   ]
  },
  {
   "cell_type": "code",
   "execution_count": 19,
   "metadata": {},
   "outputs": [],
   "source": [
    "cursor = connection.cursor()"
   ]
  },
  {
   "cell_type": "code",
   "execution_count": 10,
   "metadata": {},
   "outputs": [],
   "source": [
    "show_tables_query = \"SHOW tables\" \n"
   ]
  },
  {
   "cell_type": "code",
   "execution_count": 11,
   "metadata": {},
   "outputs": [
    {
     "name": "stdout",
     "output_type": "stream",
     "text": [
      "[('Bookings',), ('Customers',), ('MenuItems',), ('Menus',), ('OrderDeliveryStatus',), ('OrderItems',), ('Orders',), ('Staff',)]\n"
     ]
    }
   ],
   "source": [
    "cursor.execute(show_tables_query)\n",
    "result = cursor.fetchall()\n",
    "print (result)"
   ]
  },
  {
   "cell_type": "code",
   "execution_count": 21,
   "metadata": {},
   "outputs": [],
   "source": [
    "promotion_query = \"\"\"SELECT \n",
    "    c.FullName,\n",
    "    c.Email,\n",
    "    c.Phone\n",
    "FROM \n",
    "    Customers c\n",
    "JOIN \n",
    "    Orders o ON c.CustomerID = o.CustomerID\n",
    "WHERE \n",
    "    o.TotalCost > 60;\n",
    "\"\"\""
   ]
  },
  {
   "cell_type": "code",
   "execution_count": 22,
   "metadata": {},
   "outputs": [
    {
     "name": "stdout",
     "output_type": "stream",
     "text": [
      "('Jane Smith', 'jane.smith@example.com', 234568901)\n",
      "('Bob Brown', 'bob.brown@example.com', 456789123)\n",
      "('Emily Davis', 'emily.davis@example.com', 567901234)\n"
     ]
    }
   ],
   "source": [
    "cursor.execute(promotion_query)\n",
    "results = cursor.fetchall()\n",
    "\n",
    "for result in results:\n",
    "    print(result)"
   ]
  },
  {
   "cell_type": "code",
   "execution_count": 17,
   "metadata": {},
   "outputs": [],
   "source": [
    "connection.close()"
   ]
  }
 ],
 "metadata": {
  "kernelspec": {
   "display_name": "Python 3",
   "language": "python",
   "name": "python3"
  },
  "language_info": {
   "codemirror_mode": {
    "name": "ipython",
    "version": 3
   },
   "file_extension": ".py",
   "mimetype": "text/x-python",
   "name": "python",
   "nbconvert_exporter": "python",
   "pygments_lexer": "ipython3",
   "version": "3.11.6"
  }
 },
 "nbformat": 4,
 "nbformat_minor": 2
}
